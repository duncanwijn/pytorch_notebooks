{
 "cells": [
  {
   "cell_type": "markdown",
   "metadata": {},
   "source": [
    "## For this week, let's focus on the data collection for our model.\n",
    "\n",
    "We will be using an API called Alpha Vantage\n"
   ]
  },
  {
   "cell_type": "code",
   "execution_count": 5,
   "metadata": {},
   "outputs": [
    {
     "name": "stdout",
     "output_type": "stream",
     "text": [
      "{'1. open': '251.2500', '2. high': '254.3200', '3. low': '249.5300', '4. close': '250.3400', '5. volume': '4452220'}\n"
     ]
    }
   ],
   "source": [
    "\n",
    "# Import the libraries\n",
    "import requests\n",
    "import pandas as pd\n",
    "\n",
    "#Example URL\n",
    "url = \"https://www.alphavantage.co/query?function=TIME_SERIES_DAILY&symbol=IBM&apikey=2IXPJKRUU577GL06\"\n",
    "\n",
    "response = requests.get(url)\n",
    "data = response.json()\n",
    "print(data['Time Series (Daily)']['2025-03-26'])\n",
    "\n",
    "#This gives us the open and close for the stock on that day"
   ]
  },
  {
   "cell_type": "code",
   "execution_count": 7,
   "metadata": {},
   "outputs": [
    {
     "name": "stdout",
     "output_type": "stream",
     "text": [
      "          2025-03-28 2025-03-27 2025-03-26 2025-03-25 2025-03-24 2025-03-21  \\\n",
      "1. open     246.2700   249.7100   251.2500   248.3600   247.3100   241.6900   \n",
      "2. high     247.5700   250.3000   254.3200   250.9000   248.8200   245.2050   \n",
      "3. low      242.0700   245.7250   249.5300   248.2000   245.9650   238.5000   \n",
      "4. close    244.0000   246.2100   250.3400   249.9000   248.4500   243.8700   \n",
      "5. volume    3125594    2889328    4452220    3133809    4753331    9580084   \n",
      "\n",
      "          2025-03-20 2025-03-19 2025-03-18 2025-03-17  ... 2024-11-14  \\\n",
      "1. open     244.2400   248.3300   252.5100   249.2500  ...   210.0000   \n",
      "2. high     246.8000   253.6600   252.5700   254.6300  ...   210.4999   \n",
      "3. low      237.2240   246.6400   245.1200   249.0000  ...   206.3500   \n",
      "4. close    243.3200   252.2900   246.9500   252.9700  ...   208.9900   \n",
      "5. volume    7026796    3853598    4172239    3234149  ...    6372853   \n",
      "\n",
      "          2024-11-13 2024-11-12 2024-11-11 2024-11-08 2024-11-07 2024-11-06  \\\n",
      "1. open     209.5000   211.9000   214.4000   214.1600   213.6400   213.4800   \n",
      "2. high     211.4100   213.0300   215.4100   216.7000   214.5199   214.3300   \n",
      "3. low      209.0701   209.0600   213.4800   212.7809   211.9300   210.3700   \n",
      "4. close    210.9200   210.8600   213.5700   213.7200   213.6900   213.6000   \n",
      "5. volume    3247830    2818216    3012987    3201038    3675812    3934386   \n",
      "\n",
      "          2024-11-05 2024-11-04 2024-11-01  \n",
      "1. open     206.1700   207.6500   207.7700  \n",
      "2. high     208.1150   207.7000   209.8400  \n",
      "3. low      205.5700   205.8000   207.4100  \n",
      "4. close    207.5700   206.3200   208.2500  \n",
      "5. volume    2441535    2594119    3334308  \n",
      "\n",
      "[5 rows x 100 columns]\n"
     ]
    }
   ],
   "source": [
    "df = pd.DataFrame(data['Time Series (Daily)'])\n",
    "print(df)"
   ]
  },
  {
   "cell_type": "code",
   "execution_count": null,
   "metadata": {},
   "outputs": [],
   "source": [
    "import statsmodels.api as sm\n",
    "\n",
    "#Fit your model here, replacing x and y with your time series\n",
    "model = sm.OLS(y, x) # y and x are time series\n",
    "results = model.fit()"
   ]
  },
  {
   "cell_type": "code",
   "execution_count": null,
   "metadata": {},
   "outputs": [],
   "source": [
    "from statsmodels.tsa.stattools import adfuller\n",
    "\n",
    "#Here we will test the residuals of the model\n",
    "adf_result = adfuller(results.resid)\n",
    "print(f'ADF Statistic: {adf_result[0]}')\n",
    "print(f'p-value: {adf_result[1]}')"
   ]
  },
  {
   "cell_type": "markdown",
   "metadata": {},
   "source": [
    "### Exercises\n",
    "- Try and use a different model for fitting and testing, (SARIMA, Johansen Test)\n",
    "- Can you automate this process to find the best pair possible?"
   ]
  },
  {
   "cell_type": "code",
   "execution_count": null,
   "metadata": {},
   "outputs": [],
   "source": []
  }
 ],
 "metadata": {
  "kernelspec": {
   "display_name": "Python 3",
   "language": "python",
   "name": "python3"
  },
  "language_info": {
   "codemirror_mode": {
    "name": "ipython",
    "version": 3
   },
   "file_extension": ".py",
   "mimetype": "text/x-python",
   "name": "python",
   "nbconvert_exporter": "python",
   "pygments_lexer": "ipython3",
   "version": "3.9.6"
  }
 },
 "nbformat": 4,
 "nbformat_minor": 2
}
