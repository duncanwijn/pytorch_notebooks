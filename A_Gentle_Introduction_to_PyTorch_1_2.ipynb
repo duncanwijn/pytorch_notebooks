{
  "cells": [
    {
      "cell_type": "markdown",
      "metadata": {
        "colab_type": "text",
        "id": "view-in-github"
      },
      "source": [
        "<a href=\"https://colab.research.google.com/github/omarsar/pytorch_notebooks/blob/master/A_Gentle_Introduction_to_PyTorch_1_2.ipynb\" target=\"_parent\"><img src=\"https://colab.research.google.com/assets/colab-badge.svg\" alt=\"Open In Colab\"/></a>"
      ]
    },
    {
      "cell_type": "markdown",
      "metadata": {
        "colab_type": "text",
        "id": "H7gQFbUxOQtb"
      },
      "source": [
        "# A Gentle Introduction to PyTorch 1.2\n",
        "\n",
        "In our previous PyTorch [notebook](https://medium.com/dair-ai/pytorch-1-2-quickstart-with-google-colab-6690a30c38d), we learned about how to get started quickly with PyTorch 1.2 using Google Colab. In this tutorial, we are going to take a step back and review some of the basic components of building a deep learning model using PyTorch. \n",
        "\n",
        "This will be a brief tutorial and will avoid using jargon and overcomplicated code. That said, this is perhaps the most basic of models you can build with PyTorch. \n",
        "\n",
        "If fact, it is so basic that it's ideal for those starting to learn about PyTorch and deep learning. So if you have a friend or colleague that wants to jump in, I highly encourage you to refer them to this tutorial as a starting point. Let's get started!\n",
        "\n",
        "\n",
        "**Author:** [Elvis Saravia](https://twitter.com/omarsar0)\n",
        "\n",
        "**Complete Code Walkthrough:** [Blog post](https://medium.com/dair-ai/pytorch-1-2-introduction-guide-f6fa9bb7597c)\n",
        "\n",
        "---\n"
      ]
    },
    {
      "cell_type": "markdown",
      "metadata": {
        "colab_type": "text",
        "id": "cA0Ke48uRkIM"
      },
      "source": [
        "## Getting Started\n",
        "Before you get started with coding, you need to install the latest version of PyTorch. We are using Google Colab for coding our notebook, so we will use the following command to install PyTorch. "
      ]
    },
    {
      "cell_type": "markdown",
      "metadata": {
        "colab_type": "text",
        "id": "kaUbTa-dR4rh"
      },
      "source": [
        "Now we need to import a few modules which will be useful to obtain the necessary functions that will help us to build our deep learning model. The main ones are `torch` and `torchvision`. They contain the majority of the functions that you need to get started with PyTorch. However, as this is a deep learning tutorial we will need `torch.nn`, `torch.nn.functional` and `torchvision.transforms` which all contain utility functions to build our model. We probably won't use all the modules listed below but they are the typical modules you will be importing when starting your deep learning projects.  "
      ]
    },
    {
      "cell_type": "code",
      "execution_count": null,
      "metadata": {
        "colab": {},
        "colab_type": "code",
        "id": "FuhJIaeXO2W9"
      },
      "outputs": [],
      "source": [
        "## Install the necessary packages\n",
        "%pip install torch torchvision matplotlib numpy\n",
        "\n",
        "## The usual imports\n",
        "import torch\n",
        "import torch.nn as nn\n",
        "import torch.nn.functional as F\n",
        "import torchvision\n",
        "import torchvision.transforms as transforms\n",
        "\n",
        "## for printing image\n",
        "import matplotlib.pyplot as plt\n",
        "import numpy as np"
      ]
    },
    {
      "cell_type": "markdown",
      "metadata": {
        "colab_type": "text",
        "id": "wSTcn13qS7EC"
      },
      "source": [
        "Below we check for the PyTorch version just to make sure that you are using the proper version. At the time of this tutorial, we are working with PyTorch 1.2."
      ]
    },
    {
      "cell_type": "code",
      "execution_count": null,
      "metadata": {
        "colab": {
          "base_uri": "https://localhost:8080/",
          "height": 34
        },
        "colab_type": "code",
        "id": "4eVhGiUJO42I",
        "outputId": "28d35e2c-f247-4f1f-d52c-4d767fc1529c"
      },
      "outputs": [],
      "source": [
        "## print out the pytorch version used\n",
        "print(torch.__version__)"
      ]
    },
    {
      "cell_type": "markdown",
      "metadata": {
        "colab_type": "text",
        "id": "0a2C_nneO_wp"
      },
      "source": [
        "## Loading the Data\n",
        "Let's get right into it! As with any machine learning project, you need to load your dataset. We are using the [MNIST dataset](http://yann.lecun.com/exdb/mnist/), which is the Hello World of datasets in the machine learning world. \n",
        "\n",
        "The data consists of number images that are of size `28 X 28`. We will discuss the images shortly, but our plan is to load data into batches of size `32`, similar to the figure below.\n",
        "\n",
        "\n",
        "![alt text](https://drive.google.com/uc?export=view&id=19AC_WpscyXkrK_o4PaFFGpt_jG0aJm_f)\n",
        "\n",
        "\n",
        "Here are the complete steps we are performing when importing our data:\n",
        "- We will import and tranform the data into tensors using the `transforms` module\n",
        "- We will use `DataLoader` to build convenient data loaders, which makes it easy to efficiently feed data in batches to deep learning models. We will get to the topic of batches in a bit but for now just think of them as subsets of your data. \n",
        "- As hinted above, we will also create batches of the data by setting the `batch` parameter inside the data loader. Notice we use batches of `32` in this tutorial but you can change it to `64` if you like. "
      ]
    },
    {
      "cell_type": "code",
      "execution_count": null,
      "metadata": {
        "colab": {
          "base_uri": "https://localhost:8080/",
          "height": 275
        },
        "colab_type": "code",
        "id": "_DQKJhWGVSnA",
        "outputId": "a691535f-482d-4290-dd5c-08e46b7a3fea"
      },
      "outputs": [],
      "source": [
        "## parameter denoting the batch size\n",
        "BATCH_SIZE = 32\n",
        "\n",
        "## transformations\n",
        "transform = transforms.Compose([\n",
        "    transforms.ToTensor(),\n",
        "    transforms.Normalize((0.5,), (0.5,))  # Normalize pixel values\n",
        "])\n",
        "\n",
        "## download and load training dataset\n",
        "trainset = torchvision.datasets.MNIST(root='./data', train=True,\n",
        "                                        download=True, transform=transform)\n",
        "trainloader = torch.utils.data.DataLoader(trainset, batch_size=BATCH_SIZE,\n",
        "                                          shuffle=True, num_workers=2)\n",
        "\n",
        "## download and load testing dataset\n",
        "testset = torchvision.datasets.MNIST(root='./data', train=False,\n",
        "                                       download=True, transform=transform)\n",
        "testloader = torch.utils.data.DataLoader(testset, batch_size=BATCH_SIZE,\n",
        "                                         shuffle=False, num_workers=2)"
      ]
    },
    {
      "cell_type": "markdown",
      "metadata": {
        "colab_type": "text",
        "id": "r26nONGt5EoQ"
      },
      "source": [
        "Let's inspect what the trainset and testset objects contain. "
      ]
    },
    {
      "cell_type": "code",
      "execution_count": null,
      "metadata": {
        "colab": {
          "base_uri": "https://localhost:8080/",
          "height": 289
        },
        "colab_type": "code",
        "id": "nWmZhRJ8fRx4",
        "outputId": "08ef128f-600f-472a-b57e-e9a2acbc8d47"
      },
      "outputs": [],
      "source": [
        "## print the trainset and testset\n",
        "print(trainset)\n",
        "print(testset)"
      ]
    },
    {
      "cell_type": "markdown",
      "metadata": {
        "colab_type": "text",
        "id": "zM19_49wbkfr"
      },
      "source": [
        "This is a beginner's tutorial so I will break down things a bit here:\n",
        "- `BATCH_SIZE` is a parameter that denotes the batch size we will use for our model\n",
        "- `transform` holds code for whatever transformations you will apply to your data. I will show you an example below to demonstrate exactly what it does to shed more light into its use\n",
        "- `trainset` and `testset` contain the actual dataset object. Notice I use `train=True` to specify that this corresponds to the training dataset, and I use `train=False` to specify that this is the remainder of the dataset which we call the testset. From the portion I printed above you can see that the split of the data was 85% (60000) / 15% (10000), corresponding to the portions of samples for training set and testing set, respectively. \n",
        "- `trainloader` is what holds the data loader object which takes care of shuffling the data and constructing the batches.\n",
        "\n"
      ]
    },
    {
      "cell_type": "markdown",
      "metadata": {
        "colab_type": "text",
        "id": "_vWk66EEgjHW"
      },
      "source": [
        "Now let's look at that `transforms.Compose(...)` function and see what it does. We will use a randomized image to demonstrate its use. Let's generate an image. "
      ]
    },
    {
      "cell_type": "code",
      "execution_count": null,
      "metadata": {
        "colab": {},
        "colab_type": "code",
        "id": "RjGeZC4vj6VT"
      },
      "outputs": [],
      "source": [
        "image = transforms.ToPILImage(mode='L')(torch.randn(1, 96, 96))"
      ]
    },
    {
      "cell_type": "markdown",
      "metadata": {
        "colab_type": "text",
        "id": "eKpof5dPj-SA"
      },
      "source": [
        "And let's render it:"
      ]
    },
    {
      "cell_type": "code",
      "execution_count": null,
      "metadata": {
        "colab": {
          "base_uri": "https://localhost:8080/",
          "height": 286
        },
        "colab_type": "code",
        "id": "zQzB0tXIjhRG",
        "outputId": "3bc06b95-2eb9-4fbd-ceab-b649b29ff904"
      },
      "outputs": [],
      "source": [
        "plt.imshow(image)"
      ]
    },
    {
      "cell_type": "markdown",
      "metadata": {
        "colab_type": "text",
        "id": "tsszgyIChv71"
      },
      "source": [
        "Okay, we have our image sample. And now let's apply some dummy transformation to it. We are going to rotate the image by `45` degrees. The transformation below takes care of that:"
      ]
    },
    {
      "cell_type": "code",
      "execution_count": null,
      "metadata": {
        "colab": {},
        "colab_type": "code",
        "id": "afjxe4WVgtNR"
      },
      "outputs": [],
      "source": [
        "## dummy transformation\n",
        "dummy_transform = transforms.Compose(\n",
        "    [transforms.RandomRotation(45)])\n",
        "\n",
        "dummy_result = dummy_transform(image)\n",
        "\n",
        "plt.imshow(dummy_result)"
      ]
    },
    {
      "cell_type": "code",
      "execution_count": null,
      "metadata": {
        "colab": {
          "base_uri": "https://localhost:8080/",
          "height": 286
        },
        "colab_type": "code",
        "id": "iFd7BFYnkLy1",
        "outputId": "ab9809c2-87f5-49b1-a8ac-399969e73c8c"
      },
      "outputs": [],
      "source": []
    },
    {
      "cell_type": "markdown",
      "metadata": {
        "colab_type": "text",
        "id": "SUu-djsMkw9r"
      },
      "source": [
        "Notice you can put the transformations within `transforms.Compose(...)`. You can use the built in transformations offered by PyTorch or you can build your own and compose as you wish. In fact, you can place as many transformation as you wish in there. Let's try another composition of transformations: rotate + vertical flip. "
      ]
    },
    {
      "cell_type": "code",
      "execution_count": null,
      "metadata": {
        "colab": {},
        "colab_type": "code",
        "id": "48fDFFjhk9lO"
      },
      "outputs": [],
      "source": [
        "## dummy transform \n",
        "dummy2_transform = transforms.Compose(\n",
        "    [transforms.RandomRotation(45), transforms.RandomVerticalFlip()])\n",
        "\n",
        "dummy2_result = dummy2_transform(image)\n",
        "\n",
        "plt.imshow(dummy2_result)"
      ]
    },
    {
      "cell_type": "markdown",
      "metadata": {},
      "source": [
        "Go to this website and find some transformations to test yourself (https://pytorch.org/vision/0.9/transforms.html)"
      ]
    },
    {
      "cell_type": "code",
      "execution_count": null,
      "metadata": {
        "colab": {
          "base_uri": "https://localhost:8080/",
          "height": 286
        },
        "colab_type": "code",
        "id": "eQx_axfzlTlU",
        "outputId": "f022f8f1-4f50-40fe-fc6f-a036d1534d49"
      },
      "outputs": [],
      "source": []
    },
    {
      "cell_type": "markdown",
      "metadata": {
        "colab_type": "text",
        "id": "tkMitRallkW4"
      },
      "source": [
        "That's pretty cool right! Keep trying other transform methods. On the topic of exploring our data further, let's take a look at our images dataset. "
      ]
    },
    {
      "cell_type": "markdown",
      "metadata": {
        "colab_type": "text",
        "id": "HMUTV8ooxAbB"
      },
      "source": [
        "## Exploring the Data\n",
        "As a practioner and researcher, I am always spend a bit of time and effort exploring and understanding my datasets. It's fun and this is a good practise to ensure that everything is in order.\n",
        "\n",
        "Let's check what the train and test dataset contain. I will use matplotlib to print out some of the images from our dataset. With a bit of numpy I can convert images into numpy and print them out. Below I print out an entire batch. "
      ]
    },
    {
      "cell_type": "code",
      "execution_count": null,
      "metadata": {
        "colab": {
          "base_uri": "https://localhost:8080/",
          "height": 220
        },
        "colab_type": "code",
        "id": "fNCwuSTHljxM",
        "outputId": "6fcd8d79-6dc5-4963-b3f2-912415f206f6"
      },
      "outputs": [],
      "source": [
        "## functions to show an image\n",
        "def imshow(img):\n",
        "    #img = img / 2 + 0.5     # unnormalize\n",
        "    npimg = img.numpy()\n",
        "    plt.imshow(np.transpose(npimg, (1, 2, 0)))\n",
        "\n",
        "## get some random training images\n",
        "dataiter = iter(trainloader)\n",
        "images, labels = next(dataiter)\n",
        "\n",
        "## show images\n",
        "imshow(torchvision.utils.make_grid(images))"
      ]
    },
    {
      "cell_type": "markdown",
      "metadata": {
        "colab_type": "text",
        "id": "eXfF53MCxf7M"
      },
      "source": [
        "The dimensions of our batches are as follow:"
      ]
    },
    {
      "cell_type": "code",
      "execution_count": null,
      "metadata": {
        "colab": {
          "base_uri": "https://localhost:8080/",
          "height": 51
        },
        "colab_type": "code",
        "id": "onfWHzacxkmi",
        "outputId": "4ad87c23-8627-459a-ba98-d7d83e4c0d9c"
      },
      "outputs": [],
      "source": [
        "for images, labels in trainloader:\n",
        "    print(\"Image batch dimensions:\", images.shape)\n",
        "    print(\"Image label dimensions:\", labels.shape)\n",
        "    break"
      ]
    },
    {
      "cell_type": "markdown",
      "metadata": {
        "colab_type": "text",
        "id": "Sko2xLi6x8ti"
      },
      "source": [
        "## The Model\n",
        "Now it's time to build the deep learning model that will be used to perform the image classification. We will keeps things simple and stack a few dense layers and a dropout layer to train our model.\n",
        "\n",
        "Let's discuss a bit about the model:\n",
        "\n",
        "- First of all the following structure involving a `class` is standard code that's used to build the neural network model in PyTorch:\n",
        "\n",
        "```python\n",
        "class MyModel(nn.Module):\n",
        "    def __init__(self):\n",
        "        super(MyModel, self).__init__()\n",
        "        \n",
        "        # layers go here\n",
        "    \n",
        "    def forward(self, x):\n",
        "        \n",
        "        # computations go here\n",
        "```\n",
        "- The layers are defined inside `def __init__()`. `super(...).__init__()` is just there to stick things together. For our model, we stack a hidden layer (`self.d1`) followed by a dropout layer (`self.dropout`), which is then followed by an output layer (`self.d2`). \n",
        "- `nn.Linear(...)` defines the dense layer and it requires the `in` and `out` dimensions, which corresponds to the size of the input feature and output feature of that layer, respectively. \n",
        "- `nn.Dropout(...)` is used to define a dropout layer. Dropout is an approach in deep learning that helps a model to avoid overfitting. This means that dropout acts as a regularization technique that helps the model to not overfit on the images it has seen while training. We want this because we need a model that generalizes well to unseen examples -- in our case, the testing dataset. Dropout randomly zeroes some of the units of the neural network layer with probability of `p=0.2`. Read more about the dropout layer [here](https://pytorch.org/docs/stable/nn.html#dropout). \n",
        "- The entry point of the model, i.e. where the data enters, is placed under the `forward(...)` function. Typically, we also place other transformations we perform on the data while training inside this function. \n",
        "- In the `forward()` function we are performing a series of computations on the input data\n",
        "    - we flatten the images first, converting it from 2D (`28 X 28`) to 1D (`1 X 784`).\n",
        "    - then we feed the batches of those 1D images into the first hidden layer\n",
        "    - the output of that hidden layer is then applied a [non-linear activate function](https://en.wikipedia.org/wiki/Rectifier_(neural_networks)) called `ReLU`. It's not so important to know what `F.relu()` does at the moment, but the effect that it achieves is that it allows faster and more effective training of neural architectures on large datasets\n",
        "    - as explained above, the dropout also helps the model to train more efficiently by avoiding overfitting on the training data\n",
        "    - we then feed the output of that dropout layer into the output layer (`d2`)\n",
        "    - the result of that is then fed to the [softmax function](https://en.wikipedia.org/wiki/Softmax_function), which converts or normalized the output into a probability distribution which helps with outputting proper predictions values that are used to calculate the accuracy of the model; this will the final output of the model"
      ]
    },
    {
      "cell_type": "code",
      "execution_count": null,
      "metadata": {
        "colab": {},
        "colab_type": "code",
        "id": "2FhO-24HxseW"
      },
      "outputs": [],
      "source": [
        "## the model\n",
        "class MyModel(nn.Module):\n",
        "    def __init__(self):\n",
        "        super(MyModel, self).__init__()\n",
        "        self.d1 = nn.Linear(28 * 28, 128)\n",
        "        self.dropout = nn.Dropout(p=0.2)\n",
        "        self.d2 = nn.Linear(128, 10)\n",
        "    \n",
        "    def forward(self, x):\n",
        "        x = x.flatten(start_dim = 1)\n",
        "        x = self.d1(x)\n",
        "        x = F.relu(x)\n",
        "        x = self.dropout(x)\n",
        "        logits = self.d2(x)\n",
        "        return logits"
      ]
    },
    {
      "cell_type": "markdown",
      "metadata": {
        "colab_type": "text",
        "id": "0ZqgEqSRBoKL"
      },
      "source": [
        "Visually, the following is a diagram of the model we have built. Just keep in mind that the hidden layer is much bigger as shown in the diagram but due to space constraint, the diagram is just an approximation to the actual model. \n",
        "\n",
        "![alt text](https://drive.google.com/uc?export=view&id=1NuFflDPOW_hIAHTH2pXZAEhSINygPlnB)"
      ]
    },
    {
      "cell_type": "markdown",
      "metadata": {
        "colab_type": "text",
        "id": "Xi_c1Fos_4no"
      },
      "source": [
        "As I have done in my previous tutorials, I always encourage to test the model with 1 batch to ensure that the output dimensions are what we expect. Notice how we are iterating over the dataloader which conveniently stores the `images` and `labels` pairs. `out` contains the output of the model, which are the logits applied a `softmax` layer which helps with prediction. "
      ]
    },
    {
      "cell_type": "code",
      "execution_count": null,
      "metadata": {
        "colab": {
          "base_uri": "https://localhost:8080/",
          "height": 51
        },
        "colab_type": "code",
        "id": "eJuiB4J74N84",
        "outputId": "5d3dad41-eb8f-4b9b-cd25-2a4869a1dfed"
      },
      "outputs": [],
      "source": [
        "## test the model with 1 batch\n",
        "##\n",
        "for images, labels in trainloader:\n",
        "    print(\"batch size:\", images.shape)\n",
        "    out = model(images)\n",
        "    print(out.shape)\n",
        "    predicted_classes = torch.argmax(out, dim=1)\n",
        "    print(predicted_classes)\n",
        "    break"
      ]
    },
    {
      "cell_type": "markdown",
      "metadata": {
        "colab_type": "text",
        "id": "pxSu3yIbAn6B"
      },
      "source": [
        "We can clearly see that we get back the batches with 10 output values associate with it. These are used to compute the performance of the model. "
      ]
    },
    {
      "cell_type": "markdown",
      "metadata": {
        "colab_type": "text",
        "id": "SNQbf3WPBBne"
      },
      "source": [
        "## Training the Model\n",
        "Now we are ready to train the model but before that we are going to setup a loss function, an optimizer and a function to compute accuracy of the model. \n",
        "\n",
        "- The `learning_rate` is the rate at which the model will try to optimize its weights, which is just another parameter for the model. \n",
        "- `num_epochs` is the number of training steps. \n",
        "- `device` determines what hardware we will use to train the model. If a `gpu` is present, then that will be used, otherwise it defaults to the `cpu`.\n",
        "- `model` is just the model instance.\n",
        "- `model.to(device)` is in charge of setting the actaull device that will be used for training the model\n",
        "- `criterion` is just the metric that's used to compute the loss of the model while it forward and backward trains to optimize its weights. \n",
        "- `optimizer` is the optimization technique used to modify the weights in the backward propagation. Notice that it requires the `learning_rate` and the model parameters which are part of the calculation to optimize weights.\n"
      ]
    },
    {
      "cell_type": "code",
      "execution_count": null,
      "metadata": {
        "colab": {},
        "colab_type": "code",
        "id": "HvFAg3D4A_oz"
      },
      "outputs": [],
      "source": [
        "learning_rate = 0.001\n",
        "num_epochs = 5\n",
        "\n",
        "device = torch.device(\"cuda:0\" if torch.cuda.is_available() else \"cpu\")\n",
        "model = MyModel()\n",
        "model = model.to(device)\n",
        "criterion = nn.CrossEntropyLoss()\n",
        "optimizer = torch.optim.Adam(model.parameters(), lr=0.001)"
      ]
    },
    {
      "cell_type": "markdown",
      "metadata": {
        "colab_type": "text",
        "id": "OjhAkfrLZfvr"
      },
      "source": [
        "The utility function below helps to calculate the accuracy of the model. For now, it's not important to understand how it's calculated but basically it compares the outputs of the model (predictions) with the actual target values (i.e., the labels of the dataset), and tries to compute the average of correct predictions."
      ]
    },
    {
      "cell_type": "code",
      "execution_count": null,
      "metadata": {
        "colab": {},
        "colab_type": "code",
        "id": "JMXFCP24BNGS"
      },
      "outputs": [],
      "source": [
        "## utility function to compute accuracy\n",
        "def get_accuracy(output, target, batch_size):\n",
        "    ''' Obtain accuracy for training round '''\n",
        "    corrects = (torch.max(output, 1)[1].view(target.size()).data == target.data).sum()\n",
        "    accuracy = 100.0 * corrects/batch_size\n",
        "    return accuracy.item()"
      ]
    },
    {
      "cell_type": "markdown",
      "metadata": {
        "colab_type": "text",
        "id": "czTadqw2Bapb"
      },
      "source": [
        "## Training the Model\n",
        "Now it's time to train the model. The code portion that follows can be descrive in the following steps:\n",
        "\n",
        "- The first thing in training a neural network model is defining the training loop, which is achieved by:\n",
        "\n",
        "```python\n",
        "for epoch in range(num_epochs):\n",
        "    ...\n",
        "```\n",
        "\n",
        "- We define two variables, `training_running_loss` and `train_acc` that will help us to monitor the running accuracy and loss of the modes while it trains over the different batches.\n",
        "- `model.train()` explicitly indicates that we are ready to start training. \n",
        "- Notice how we are iterating over the dataloader, which conveniently gives us the batches in image-label pairs. \n",
        "- That second `for` loop means that for every training step we will iterate over all the batches and train the model over them.\n",
        "- We feed the model the images via `model(images)` and the output are the predictions of the model. \n",
        "- The predictions together with the target labels are used to compute the loss using the loss function we defined earlier.\n",
        "- Before we update our weights for the next round of training, we perform the following steps:\n",
        "    - we use the optimizer object to reset all the gradients for the variables it will update. This is a safe step and it doesn't overwrites the gradients the model accumulates while training (those are stored in a buffer [link text](https://pytorch.org/tutorials/beginner/pytorch_with_examples.html#pytorch-optim) via the `loss.backward() call)\n",
        "    - `loss.backward()` simply computes the gradient of the loss w.r.t to the model parameters\n",
        "    - `optimizer.step()` then ensures that the model parameters are updated\n",
        "\n",
        "- Then we gather and accumulate the loss and accuracy, which is what we will use to tell us if the model is learning properly"
      ]
    },
    {
      "cell_type": "code",
      "execution_count": null,
      "metadata": {
        "colab": {
          "base_uri": "https://localhost:8080/",
          "height": 102
        },
        "colab_type": "code",
        "id": "a-WMQXIWBZ3U",
        "outputId": "ade721d0-3423-4871-9044-36d68a782ce6"
      },
      "outputs": [],
      "source": [
        "## train the model\n",
        "for epoch in range(num_epochs):\n",
        "    train_running_loss = 0.0\n",
        "    train_acc = 0.0\n",
        "\n",
        "    ## commence training\n",
        "    model = model.train()\n",
        "\n",
        "    ## training step\n",
        "    for i, (images, labels) in enumerate(trainloader):\n",
        "        \n",
        "        images = images.to(device)\n",
        "        labels = labels.to(device)\n",
        "\n",
        "        ## forward + backprop + loss\n",
        "        predictions = model(images)\n",
        "        loss = nn.CrossEntropyLoss()(predictions, labels)\n",
        "        optimizer.zero_grad()\n",
        "        loss.backward()\n",
        "\n",
        "        ## update model params\n",
        "        optimizer.step()\n",
        "\n",
        "        train_running_loss += loss.detach().item()\n",
        "        train_acc += get_accuracy(predictions, labels, BATCH_SIZE)\n",
        "    \n",
        "    model.eval()\n",
        "    print('Epoch: %d | Loss: %.4f | Train Accuracy: %.2f' \\\n",
        "          %(epoch, train_running_loss / i, train_acc/i)) "
      ]
    },
    {
      "cell_type": "markdown",
      "metadata": {
        "colab_type": "text",
        "id": "NxSFFoeDjQj_"
      },
      "source": [
        "After all the training steps are over, we can clearly see that the loss keeps decreasing while the training accuracy of the model keeps rising, which is a good sign that the model is effectively learning to classify images.\n",
        "\n",
        "We can verify that by computing the accuracy on the testing dataset to see how well the model performs on the image classificaiton task. As you can see below, our basic CNN model is performing very well on the MNIST classification task."
      ]
    },
    {
      "cell_type": "code",
      "execution_count": null,
      "metadata": {
        "colab": {
          "base_uri": "https://localhost:8080/",
          "height": 34
        },
        "colab_type": "code",
        "id": "vWU90wx9jpDS",
        "outputId": "d180ed33-92b2-4823-b74f-1639470abbfb"
      },
      "outputs": [],
      "source": [
        "test_acc = 0.0\n",
        "for i, (images, labels) in enumerate(testloader, 0):\n",
        "    images = images.to(device)\n",
        "    labels = labels.to(device)\n",
        "    outputs = model(images)\n",
        "    test_acc += get_accuracy(outputs, labels, BATCH_SIZE)\n",
        "        \n",
        "print('Test Accuracy: %.2f'%( test_acc/i))"
      ]
    },
    {
      "cell_type": "markdown",
      "metadata": {
        "colab_type": "text",
        "id": "ozX4V1GhPLyr"
      },
      "source": [
        "## Final Words\n",
        "\n",
        "Congratulation! You have made it to the end of this tutorial. This is a really long tutorial that aims to give an very basic introduction to the fundamentals of image classification using neural networks and PyTorch.\n",
        "\n",
        "*This tutorial was heavily inspired by this [TensorFlow tutorial.](https://www.tensorflow.org/beta/tutorials/quickstart/beginner) We thank the authors of the corresponding reference for their valuable work.*"
      ]
    },
    {
      "cell_type": "markdown",
      "metadata": {
        "colab_type": "text",
        "id": "4-o4w9vpPHZz"
      },
      "source": [
        "## References\n",
        "- [PyTorch 1.2 Quickstart with Google Colab](https://medium.com/dair-ai/pytorch-1-2-quickstart-with-google-colab-6690a30c38d)\n",
        "- [Get started with TensorFlow 2.0 for beginners](https://www.tensorflow.org/beta/tutorials/quickstart/beginner)\n",
        "- [PyTorch Data Loading Tutorial](https://pytorch.org/tutorials/beginner/data_loading_tutorial.html)\n",
        "-[ Neural Networks with PyTorch](https://pytorch.org/tutorials/beginner/blitz/neural_networks_tutorial.html#sphx-glr-beginner-blitz-neural-networks-tutorial-py)"
      ]
    }
  ],
  "metadata": {
    "accelerator": "GPU",
    "colab": {
      "include_colab_link": true,
      "name": "A Gentle Introduction to PyTorch 1.2.ipynb",
      "provenance": [],
      "version": "0.3.2"
    },
    "kernelspec": {
      "display_name": "Python 3",
      "name": "python3"
    },
    "language_info": {
      "codemirror_mode": {
        "name": "ipython",
        "version": 3
      },
      "file_extension": ".py",
      "mimetype": "text/x-python",
      "name": "python",
      "nbconvert_exporter": "python",
      "pygments_lexer": "ipython3",
      "version": "3.11.3"
    }
  },
  "nbformat": 4,
  "nbformat_minor": 0
}
